{
 "cells": [
  {
   "cell_type": "code",
   "execution_count": 1,
   "metadata": {},
   "outputs": [
    {
     "name": "stdout",
     "output_type": "stream",
     "text": [
      "Collecting mlxtend\n",
      "  Downloading mlxtend-0.23.1-py3-none-any.whl.metadata (7.3 kB)\n",
      "Requirement already satisfied: pandas in ./.venv/lib/python3.11/site-packages (2.2.2)\n",
      "Collecting scipy>=1.2.1 (from mlxtend)\n",
      "  Using cached scipy-1.14.1-cp311-cp311-macosx_14_0_arm64.whl.metadata (60 kB)\n",
      "Requirement already satisfied: numpy>=1.16.2 in ./.venv/lib/python3.11/site-packages (from mlxtend) (2.1.1)\n",
      "Collecting scikit-learn>=1.0.2 (from mlxtend)\n",
      "  Downloading scikit_learn-1.5.2-cp311-cp311-macosx_12_0_arm64.whl.metadata (13 kB)\n",
      "Collecting matplotlib>=3.0.0 (from mlxtend)\n",
      "  Using cached matplotlib-3.9.2-cp311-cp311-macosx_11_0_arm64.whl.metadata (11 kB)\n",
      "Collecting joblib>=0.13.2 (from mlxtend)\n",
      "  Using cached joblib-1.4.2-py3-none-any.whl.metadata (5.4 kB)\n",
      "Requirement already satisfied: python-dateutil>=2.8.2 in ./.venv/lib/python3.11/site-packages (from pandas) (2.9.0.post0)\n",
      "Requirement already satisfied: pytz>=2020.1 in ./.venv/lib/python3.11/site-packages (from pandas) (2024.2)\n",
      "Requirement already satisfied: tzdata>=2022.7 in ./.venv/lib/python3.11/site-packages (from pandas) (2024.1)\n",
      "Collecting contourpy>=1.0.1 (from matplotlib>=3.0.0->mlxtend)\n",
      "  Using cached contourpy-1.3.0-cp311-cp311-macosx_11_0_arm64.whl.metadata (5.4 kB)\n",
      "Collecting cycler>=0.10 (from matplotlib>=3.0.0->mlxtend)\n",
      "  Using cached cycler-0.12.1-py3-none-any.whl.metadata (3.8 kB)\n",
      "Collecting fonttools>=4.22.0 (from matplotlib>=3.0.0->mlxtend)\n",
      "  Using cached fonttools-4.53.1-cp311-cp311-macosx_11_0_arm64.whl.metadata (162 kB)\n",
      "Collecting kiwisolver>=1.3.1 (from matplotlib>=3.0.0->mlxtend)\n",
      "  Using cached kiwisolver-1.4.7-cp311-cp311-macosx_11_0_arm64.whl.metadata (6.3 kB)\n",
      "Requirement already satisfied: packaging>=20.0 in ./.venv/lib/python3.11/site-packages (from matplotlib>=3.0.0->mlxtend) (24.1)\n",
      "Collecting pillow>=8 (from matplotlib>=3.0.0->mlxtend)\n",
      "  Using cached pillow-10.4.0-cp311-cp311-macosx_11_0_arm64.whl.metadata (9.2 kB)\n",
      "Collecting pyparsing>=2.3.1 (from matplotlib>=3.0.0->mlxtend)\n",
      "  Using cached pyparsing-3.1.4-py3-none-any.whl.metadata (5.1 kB)\n",
      "Requirement already satisfied: six>=1.5 in ./.venv/lib/python3.11/site-packages (from python-dateutil>=2.8.2->pandas) (1.16.0)\n",
      "Collecting threadpoolctl>=3.1.0 (from scikit-learn>=1.0.2->mlxtend)\n",
      "  Using cached threadpoolctl-3.5.0-py3-none-any.whl.metadata (13 kB)\n",
      "Downloading mlxtend-0.23.1-py3-none-any.whl (1.4 MB)\n",
      "\u001b[2K   \u001b[90m━━━━━━━━━━━━━━━━━━━━━━━━━━━━━━━━━━━━━━━━\u001b[0m \u001b[32m1.4/1.4 MB\u001b[0m \u001b[31m15.1 MB/s\u001b[0m eta \u001b[36m0:00:00\u001b[0m\n",
      "\u001b[?25hUsing cached joblib-1.4.2-py3-none-any.whl (301 kB)\n",
      "Using cached matplotlib-3.9.2-cp311-cp311-macosx_11_0_arm64.whl (7.8 MB)\n",
      "Downloading scikit_learn-1.5.2-cp311-cp311-macosx_12_0_arm64.whl (11.0 MB)\n",
      "\u001b[2K   \u001b[90m━━━━━━━━━━━━━━━━━━━━━━━━━━━━━━━━━━━━━━━━\u001b[0m \u001b[32m11.0/11.0 MB\u001b[0m \u001b[31m74.6 MB/s\u001b[0m eta \u001b[36m0:00:00\u001b[0m\n",
      "\u001b[?25hUsing cached scipy-1.14.1-cp311-cp311-macosx_14_0_arm64.whl (23.1 MB)\n",
      "Using cached contourpy-1.3.0-cp311-cp311-macosx_11_0_arm64.whl (250 kB)\n",
      "Using cached cycler-0.12.1-py3-none-any.whl (8.3 kB)\n",
      "Using cached fonttools-4.53.1-cp311-cp311-macosx_11_0_arm64.whl (2.2 MB)\n",
      "Using cached kiwisolver-1.4.7-cp311-cp311-macosx_11_0_arm64.whl (64 kB)\n",
      "Using cached pillow-10.4.0-cp311-cp311-macosx_11_0_arm64.whl (3.4 MB)\n",
      "Using cached pyparsing-3.1.4-py3-none-any.whl (104 kB)\n",
      "Using cached threadpoolctl-3.5.0-py3-none-any.whl (18 kB)\n",
      "Installing collected packages: threadpoolctl, scipy, pyparsing, pillow, kiwisolver, joblib, fonttools, cycler, contourpy, scikit-learn, matplotlib, mlxtend\n",
      "Successfully installed contourpy-1.3.0 cycler-0.12.1 fonttools-4.53.1 joblib-1.4.2 kiwisolver-1.4.7 matplotlib-3.9.2 mlxtend-0.23.1 pillow-10.4.0 pyparsing-3.1.4 scikit-learn-1.5.2 scipy-1.14.1 threadpoolctl-3.5.0\n"
     ]
    }
   ],
   "source": [
    "!pip install mlxtend pandas"
   ]
  },
  {
   "cell_type": "code",
   "execution_count": 6,
   "metadata": {},
   "outputs": [],
   "source": [
    "import pandas as pd\n",
    "import re"
   ]
  },
  {
   "cell_type": "code",
   "execution_count": 3,
   "metadata": {},
   "outputs": [],
   "source": [
    "df = pd.read_csv('eCommerceRatings_wHeader.csv')"
   ]
  },
  {
   "cell_type": "code",
   "execution_count": 13,
   "metadata": {},
   "outputs": [],
   "source": [
    "df.columns = [name.lower() for name in df.columns]\n"
   ]
  },
  {
   "cell_type": "code",
   "execution_count": 14,
   "metadata": {},
   "outputs": [],
   "source": [
    "user_products = df.groupby('userid')['productid'].apply(list).reset_index()"
   ]
  },
  {
   "cell_type": "code",
   "execution_count": 15,
   "metadata": {},
   "outputs": [
    {
     "data": {
      "text/html": [
       "<div>\n",
       "<style scoped>\n",
       "    .dataframe tbody tr th:only-of-type {\n",
       "        vertical-align: middle;\n",
       "    }\n",
       "\n",
       "    .dataframe tbody tr th {\n",
       "        vertical-align: top;\n",
       "    }\n",
       "\n",
       "    .dataframe thead th {\n",
       "        text-align: right;\n",
       "    }\n",
       "</style>\n",
       "<table border=\"1\" class=\"dataframe\">\n",
       "  <thead>\n",
       "    <tr style=\"text-align: right;\">\n",
       "      <th></th>\n",
       "      <th>userid</th>\n",
       "      <th>productid</th>\n",
       "    </tr>\n",
       "  </thead>\n",
       "  <tbody>\n",
       "    <tr>\n",
       "      <th>0</th>\n",
       "      <td>014789302X</td>\n",
       "      <td>[A18M3W71X8TYY6, A1NLF2JD7BVOB4, A1X3F9FFDMZ92...</td>\n",
       "    </tr>\n",
       "    <tr>\n",
       "      <th>1</th>\n",
       "      <td>097920500X</td>\n",
       "      <td>[A13JV4DHJJ12YZ, A2O91YORQH16L5, A3R19YKNL641X3]</td>\n",
       "    </tr>\n",
       "    <tr>\n",
       "      <th>2</th>\n",
       "      <td>140717455X</td>\n",
       "      <td>[A1ZLRH1TEXOBRA, AELI4S2UHSI11, ANDPO7R2U9K64]</td>\n",
       "    </tr>\n",
       "    <tr>\n",
       "      <th>3</th>\n",
       "      <td>1421694778</td>\n",
       "      <td>[A1PN69BSDMSVS8, A2K8CM7Y4AZ557]</td>\n",
       "    </tr>\n",
       "    <tr>\n",
       "      <th>4</th>\n",
       "      <td>1421697386</td>\n",
       "      <td>[A1AG36LZCXMQ1U, AFXP3VWWC1DJ6]</td>\n",
       "    </tr>\n",
       "    <tr>\n",
       "      <th>...</th>\n",
       "      <td>...</td>\n",
       "      <td>...</td>\n",
       "    </tr>\n",
       "    <tr>\n",
       "      <th>32581</th>\n",
       "      <td>B01HIWLLUK</td>\n",
       "      <td>[A22WJD50YSFYCC]</td>\n",
       "    </tr>\n",
       "    <tr>\n",
       "      <th>32582</th>\n",
       "      <td>B01HJ1K3YK</td>\n",
       "      <td>[A31CW6M6DOT894]</td>\n",
       "    </tr>\n",
       "    <tr>\n",
       "      <th>32583</th>\n",
       "      <td>B01HJ84SGM</td>\n",
       "      <td>[A1IYJVHJSCR8DR, A1YQHF10YIMWOL, A2FZ7C9H14T5H...</td>\n",
       "    </tr>\n",
       "    <tr>\n",
       "      <th>32584</th>\n",
       "      <td>B01HJASD20</td>\n",
       "      <td>[A15UPE8UMHA5KR]</td>\n",
       "    </tr>\n",
       "    <tr>\n",
       "      <th>32585</th>\n",
       "      <td>B01HJEGTYK</td>\n",
       "      <td>[A10NYECANX9N3G, A1B5DK6CTP2P24, A1MCGSZ683JMB...</td>\n",
       "    </tr>\n",
       "  </tbody>\n",
       "</table>\n",
       "<p>32586 rows × 2 columns</p>\n",
       "</div>"
      ],
      "text/plain": [
       "           userid                                          productid\n",
       "0      014789302X  [A18M3W71X8TYY6, A1NLF2JD7BVOB4, A1X3F9FFDMZ92...\n",
       "1      097920500X   [A13JV4DHJJ12YZ, A2O91YORQH16L5, A3R19YKNL641X3]\n",
       "2      140717455X     [A1ZLRH1TEXOBRA, AELI4S2UHSI11, ANDPO7R2U9K64]\n",
       "3      1421694778                   [A1PN69BSDMSVS8, A2K8CM7Y4AZ557]\n",
       "4      1421697386                    [A1AG36LZCXMQ1U, AFXP3VWWC1DJ6]\n",
       "...           ...                                                ...\n",
       "32581  B01HIWLLUK                                   [A22WJD50YSFYCC]\n",
       "32582  B01HJ1K3YK                                   [A31CW6M6DOT894]\n",
       "32583  B01HJ84SGM  [A1IYJVHJSCR8DR, A1YQHF10YIMWOL, A2FZ7C9H14T5H...\n",
       "32584  B01HJASD20                                   [A15UPE8UMHA5KR]\n",
       "32585  B01HJEGTYK  [A10NYECANX9N3G, A1B5DK6CTP2P24, A1MCGSZ683JMB...\n",
       "\n",
       "[32586 rows x 2 columns]"
      ]
     },
     "execution_count": 15,
     "metadata": {},
     "output_type": "execute_result"
    }
   ],
   "source": [
    "user_products"
   ]
  },
  {
   "cell_type": "code",
   "execution_count": 17,
   "metadata": {},
   "outputs": [
    {
     "data": {
      "text/plain": [
       "<Axes: >"
      ]
     },
     "execution_count": 17,
     "metadata": {},
     "output_type": "execute_result"
    },
    {
     "data": {
      "image/png": "[encoded data removed]",
      "text/plain": [
       "<Figure size 640x480 with 1 Axes>"
      ]
     },
     "metadata": {},
     "output_type": "display_data"
    }
   ],
   "source": [
    "df.rating.hist()"
   ]
  },
  {
   "cell_type": "code",
   "execution_count": 29,
   "metadata": {},
   "outputs": [
    {
     "data": {
      "text/plain": [
       "(371345, 4)"
      ]
     },
     "execution_count": 29,
     "metadata": {},
     "output_type": "execute_result"
    }
   ],
   "source": [
    "df.shape"
   ]
  },
  {
   "cell_type": "code",
   "execution_count": 31,
   "metadata": {},
   "outputs": [],
   "source": []
  },
  {
   "cell_type": "code",
   "execution_count": 30,
   "metadata": {},
   "outputs": [],
   "source": [
    "from sklearn.model_selection import StratifiedKFold\n",
    "skf = StratifiedKFold(n_splits=5, shuffle=True, random_state=42)\n",
    "X = df[['userid', 'productid']]\n",
    "Y = df['rating']\n",
    "i = 0\n",
    "for train_index, test_index in skf.split(X, Y):\n",
    "    X_train, X_test = X.iloc[train_index], X.iloc[test_index]\n",
    "    y_train, y_test = Y.iloc[train_index], Y.iloc[test_index]\n",
    "    pd.concat([X_train, y_train], axis=1).to_csv(f\"train_{i}.csv\")\n",
    "    pd.concat([X_test, y_test], axis=1).to_csv(f\"test_{i}.csv\")\n",
    "    i += 1"
   ]
  },
  {
   "cell_type": "code",
   "execution_count": null,
   "metadata": {},
   "outputs": [],
   "source": [
    "df = df[df['rating'] >= 4]  # only want ratings above a 4\n",
    "\n",
    "# Group the products rated by each user into a list (a \"transaction\")\n",
    "\n",
    "# Convert to a list of lists (transactions)\n",
    "transactions = user_products['productId'].tolist()\n",
    "from mlxtend.frequent_patterns import apriori\n",
    "from mlxtend.frequent_patterns import association_rules\n",
    "from mlxtend.preprocessing import TransactionEncoder\n",
    "\n",
    "# Convert the transactions into the format required by the Apriori algorithm\n",
    "te = TransactionEncoder()\n",
    "te_ary = te.fit(transactions).transform(transactions)\n",
    "df_transactions = pd.DataFrame(te_ary, columns=te.columns_)\n",
    "\n",
    "# Apply Apriori algorithm to find frequent itemsets\n",
    "frequent_itemsets = apriori(df_transactions, min_support=0.01, use_colnames=True)\n",
    "\n",
    "# Generate the association rules with a minimum confidence\n",
    "rules = association_rules(frequent_itemsets, metric=\"confidence\", min_threshold=0.1)\n",
    "\n",
    "# View the association rules\n",
    "print(rules[['antecedents', 'consequents', 'support', 'confidence', 'lift']])"
   ]
  }
 ],
 "metadata": {
  "kernelspec": {
   "display_name": ".venv",
   "language": "python",
   "name": "python3"
  },
  "language_info": {
   "codemirror_mode": {
    "name": "ipython",
    "version": 3
   },
   "file_extension": ".py",
   "mimetype": "text/x-python",
   "name": "python",
   "nbconvert_exporter": "python",
   "pygments_lexer": "ipython3",
   "version": "3.11.7"
  }
 },
 "nbformat": 4,
 "nbformat_minor": 2
}
